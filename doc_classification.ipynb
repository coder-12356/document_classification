{
 "cells": [
  {
   "cell_type": "markdown",
   "metadata": {},
   "source": [
    "1. install dependencies"
   ]
  },
  {
   "cell_type": "code",
   "execution_count": null,
   "metadata": {},
   "outputs": [],
   "source": [
    "#!pip install pandas\n",
    "#!pip install numpy\n",
    "#!pip install scikit-learn"
   ]
  },
  {
   "cell_type": "markdown",
   "metadata": {},
   "source": [
    "2. All Imports"
   ]
  },
  {
   "cell_type": "code",
   "execution_count": null,
   "metadata": {},
   "outputs": [],
   "source": [
    "import numpy as np # linear algebra\n",
    "import pandas as pd # data processing, CSV file I/O (e.g. pd.read_csv)\n",
    "\n",
    "import os"
   ]
  },
  {
   "cell_type": "markdown",
   "metadata": {},
   "source": [
    "3. Loading data"
   ]
  },
  {
   "cell_type": "code",
   "execution_count": null,
   "metadata": {},
   "outputs": [],
   "source": [
    "data = r\"..\\input_data\\df_file.csv\""
   ]
  },
  {
   "cell_type": "markdown",
   "metadata": {},
   "source": [
    "Label: It contains labels for five different categories : 0,1,2,3,4\n",
    "\n",
    "    Politics = 0\n",
    "    Sport = 1\n",
    "    Technology = 2\n",
    "    Entertainment =3\n",
    "    Business = 4\n"
   ]
  },
  {
   "cell_type": "code",
   "execution_count": null,
   "metadata": {},
   "outputs": [],
   "source": [
    "df = pd.read_csv(data)\n",
    "print(df.head()) #list first 5 data in dataset\n",
    "\n",
    "df[\"Label\"].value_counts() #distinct values of each label"
   ]
  },
  {
   "cell_type": "code",
   "execution_count": null,
   "metadata": {},
   "outputs": [],
   "source": [
    "x = df[\"Text\"]\n",
    "y = df[\"Label\"]\n",
    "len(x) #Total rows"
   ]
  },
  {
   "cell_type": "markdown",
   "metadata": {},
   "source": [
    "preparing data now..."
   ]
  },
  {
   "cell_type": "code",
   "execution_count": null,
   "metadata": {},
   "outputs": [],
   "source": [
    "from sklearn.model_selection import train_test_split\n",
    "x_train,x_test,y_train,y_test = train_test_split(x, y, test_size=0.2, random_state=42)\n",
    "\n",
    "len(x_train)"
   ]
  },
  {
   "cell_type": "markdown",
   "metadata": {},
   "source": [
    "make a model that takes these training data...."
   ]
  },
  {
   "cell_type": "code",
   "execution_count": null,
   "metadata": {},
   "outputs": [],
   "source": [
    "from sklearn.pipeline import Pipeline\n",
    "from sklearn.feature_extraction.text import TfidfVectorizer\n",
    "from sklearn.naive_bayes import MultinomialNB, ComplementNB\n",
    "from sklearn.svm import LinearSVC\n",
    "from sklearn.metrics import classification_report, accuracy_score"
   ]
  },
  {
   "cell_type": "markdown",
   "metadata": {},
   "source": [
    "vectorize data i.e creates numerical values for data. and clf is classifier , ngram - 2 word text will be counted. All three algorithms available on ibm"
   ]
  },
  {
   "cell_type": "code",
   "execution_count": null,
   "metadata": {},
   "outputs": [],
   "source": [
    "pipeMNB = Pipeline([('tfidf',TfidfVectorizer(stop_words=\"english\", ngram_range=(1,3))),('clf',MultinomialNB())])\n",
    "pipeCNB = Pipeline([('tfidf',TfidfVectorizer(stop_words=\"english\", ngram_range=(1,3))),('clf',ComplementNB())])\n",
    "pipeSVC = Pipeline([('tfidf',TfidfVectorizer(stop_words=\"english\", ngram_range=(1,3))),('clf',LinearSVC())])"
   ]
  },
  {
   "cell_type": "markdown",
   "metadata": {},
   "source": [
    "once pipeline is read. we will stary to train our data on these modals...predict function takes the ground trouth first then takes the predicted value"
   ]
  },
  {
   "cell_type": "code",
   "execution_count": null,
   "metadata": {},
   "outputs": [],
   "source": [
    "pipeMNB.fit(x_train,y_train)\n",
    "predictMNB = pipeMNB.predict(x_test)\n",
    "predictMNB\n",
    "\n",
    "print(f\"MNB= {accuracy_score(y_test,predictMNB)}\")\n",
    "\n",
    "\n",
    "pipeCNB.fit(x_train,y_train)\n",
    "predictCNB = pipeCNB.predict(x_test)\n",
    "\n",
    "print(f\"CNB= {accuracy_score(y_test,predictCNB)}\")\n",
    "\n",
    "\n",
    "pipeSVC.fit(x_train,y_train)\n",
    "predictSCV = pipeSVC.predict(x_test)\n",
    "\n",
    "print(f\"SVC= {accuracy_score(y_test,predictSCV)}\")"
   ]
  },
  {
   "cell_type": "markdown",
   "metadata": {},
   "source": [
    "With Stop words\n",
    "MNB= 0.9640449438202248\n",
    "CNB= 0.9730337078651685\n",
    "SVC= 0.9842696629213483\n",
    "\n",
    "Without stop_words\n",
    "MNB= 0.9393258426966292\n",
    "CNB= 0.9707865168539326\n",
    "SVC= 0.9797752808988764"
   ]
  },
  {
   "cell_type": "markdown",
   "metadata": {},
   "source": [
    "Test model on your own data...."
   ]
  },
  {
   "cell_type": "code",
   "execution_count": 57,
   "metadata": {},
   "outputs": [
    {
     "name": "stdout",
     "output_type": "stream",
     "text": [
      "MNB prediction =  Politics\n",
      "CNB prediction =  Politics\n",
      "SCV prediction =  Politics\n"
     ]
    }
   ],
   "source": [
    "sampletext = \"our party will rule the country\"\n",
    "a = pipeMNB.predict([sampletext])\n",
    "b = pipeCNB.predict([sampletext])\n",
    "c = pipeSVC.predict([sampletext])\n",
    "\n",
    "\n",
    "val1 = \"No answer\"\n",
    "if(a[0] == 0):\n",
    "  val1 = \"Politics\"\n",
    "elif(a[0] == 1):\n",
    "  val1 = \"Sport\"\n",
    "elif(a[0] == 2):\n",
    "  val1 = \"Technology\"\n",
    "elif(a[0] == 3):\n",
    "  val1 = \"Entertainment\"\n",
    "elif(a[0] == 4):\n",
    "  val1 = \"Business\"\n",
    "else:\n",
    "  val1 = \"Test fail\"\n",
    "\n",
    "print(\"MNB algorithm prediction = \",val1)\n",
    "\n",
    "val2 = \"No answer\"\n",
    "if(b[0] == 0):\n",
    "  val2 = \"Politics\"\n",
    "elif(b[0] == 1):\n",
    "  val2 = \"Sport\"\n",
    "elif(b[0] == 2):\n",
    "  val2 = \"Technology\"\n",
    "elif(b[0] == 3):\n",
    "  val2 = \"Entertainment\"\n",
    "elif(b[0] == 4):\n",
    "  val2 = \"Business\"\n",
    "else:\n",
    "  val2 = \"Test fail\"\n",
    "\n",
    "print(\"CNB algorithm prediction = \",val2)\n",
    "\n",
    "\n",
    "val3 = \"No answer\"\n",
    "if(c[0] == 0):\n",
    "  val3 = \"Politics\"\n",
    "elif(c[0] == 1):\n",
    "  val3 = \"Sport\"\n",
    "elif(c[0] == 2):\n",
    "  val3 = \"Technology\"\n",
    "elif(c[0] == 3):\n",
    "  val3 = \"Entertainment\"\n",
    "elif(c[0] == 4):\n",
    "  val3 = \"Business\"\n",
    "else:\n",
    "  val3 = \"Test fail\"\n",
    "\n",
    "print(\"SCV algorithm prediction = \",val3)"
   ]
  }
 ],
 "metadata": {
  "kernelspec": {
   "display_name": "myenv",
   "language": "python",
   "name": "python3"
  },
  "language_info": {
   "codemirror_mode": {
    "name": "ipython",
    "version": 3
   },
   "file_extension": ".py",
   "mimetype": "text/x-python",
   "name": "python",
   "nbconvert_exporter": "python",
   "pygments_lexer": "ipython3",
   "version": "3.11.9"
  }
 },
 "nbformat": 4,
 "nbformat_minor": 2
}
